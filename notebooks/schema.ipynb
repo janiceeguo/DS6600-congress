{
 "cells": [
  {
   "cell_type": "code",
   "execution_count": 1,
   "id": "bd219228",
   "metadata": {},
   "outputs": [],
   "source": [
    "import numpy as np\n",
    "import pandas as pd"
   ]
  },
  {
   "cell_type": "code",
   "execution_count": 2,
   "id": "e5bd198e",
   "metadata": {},
   "outputs": [],
   "source": [
    "bill_summaries = pd.read_csv('../data/bill_summaries.csv')\n",
    "bioinfo = pd.read_csv('../data/bioinfo.csv')\n",
    "fec_ids = pd.read_csv('../data/fec_ids.csv')\n",
    "ideology = pd.read_csv('../data/ideology.csv')\n",
    "sponsored_legislation = pd.read_csv('../data/sponsored_legislation.csv')\n",
    "terms = pd.read_csv('../data/terms.csv')\n",
    "vote_compare = pd.read_csv('../data/vote_compare.csv')\n",
    "contrib = pd.read_csv('../data/contrib.csv')"
   ]
  },
  {
   "cell_type": "markdown",
   "id": "a61dd156",
   "metadata": {},
   "source": [
    "1. Do each of the CSVs have primary keys? If so, what?"
   ]
  },
  {
   "cell_type": "code",
   "execution_count": 3,
   "id": "01144502",
   "metadata": {},
   "outputs": [
    {
     "data": {
      "text/plain": [
       "Index(['actionDate', 'actionDesc', 'currentChamber', 'currentChamberCode',\n",
       "       'lastSummaryUpdateDate', 'text', 'updateDate', 'versionCode',\n",
       "       'bill.congress', 'bill.number', 'bill.originChamber',\n",
       "       'bill.originChamberCode', 'bill.title', 'bill.type',\n",
       "       'bill.updateDateIncludingText', 'bill.url'],\n",
       "      dtype='object')"
      ]
     },
     "execution_count": 3,
     "metadata": {},
     "output_type": "execute_result"
    }
   ],
   "source": [
    "bill_summaries.columns"
   ]
  },
  {
   "cell_type": "code",
   "execution_count": 13,
   "id": "3ac8732b",
   "metadata": {},
   "outputs": [
    {
     "data": {
      "text/plain": [
       "False    2751\n",
       "Name: count, dtype: int64"
      ]
     },
     "execution_count": 13,
     "metadata": {},
     "output_type": "execute_result"
    }
   ],
   "source": [
    "bill_summaries[['bill.type', 'bill.number', 'versionCode']].duplicated().value_counts()"
   ]
  },
  {
   "cell_type": "code",
   "execution_count": 4,
   "id": "059250d0",
   "metadata": {},
   "outputs": [
    {
     "data": {
      "text/plain": [
       "Index(['bioguide_id', 'Full name', 'Chamber', 'State', 'Party', 'District',\n",
       "       'birthYear', 'image', 'Office address', 'Phone', 'Website'],\n",
       "      dtype='object')"
      ]
     },
     "execution_count": 4,
     "metadata": {},
     "output_type": "execute_result"
    }
   ],
   "source": [
    "bioinfo.columns"
   ]
  },
  {
   "cell_type": "code",
   "execution_count": 14,
   "id": "4b7335d1",
   "metadata": {},
   "outputs": [
    {
     "data": {
      "text/plain": [
       "False    545\n",
       "Name: count, dtype: int64"
      ]
     },
     "execution_count": 14,
     "metadata": {},
     "output_type": "execute_result"
    }
   ],
   "source": [
    "bioinfo[['bioguide_id']].duplicated().value_counts()"
   ]
  },
  {
   "cell_type": "code",
   "execution_count": 5,
   "id": "befa5efb",
   "metadata": {},
   "outputs": [
    {
     "data": {
      "text/plain": [
       "Index(['bioguide_id', 'fec_id'], dtype='object')"
      ]
     },
     "execution_count": 5,
     "metadata": {},
     "output_type": "execute_result"
    }
   ],
   "source": [
    "fec_ids.columns"
   ]
  },
  {
   "cell_type": "code",
   "execution_count": 15,
   "id": "afeb2c8f",
   "metadata": {},
   "outputs": [
    {
     "data": {
      "text/plain": [
       "False    545\n",
       "Name: count, dtype: int64"
      ]
     },
     "execution_count": 15,
     "metadata": {},
     "output_type": "execute_result"
    }
   ],
   "source": [
    "fec_ids[['bioguide_id']].duplicated().value_counts()"
   ]
  },
  {
   "cell_type": "code",
   "execution_count": 6,
   "id": "9e291239",
   "metadata": {},
   "outputs": [
    {
     "data": {
      "text/plain": [
       "Index(['bioname', 'chamber', 'left_right_ideology', 'state_abbrev',\n",
       "       'district_code', 'icpsr', 'bioguide_id', 'party'],\n",
       "      dtype='object')"
      ]
     },
     "execution_count": 6,
     "metadata": {},
     "output_type": "execute_result"
    }
   ],
   "source": [
    "ideology.columns"
   ]
  },
  {
   "cell_type": "code",
   "execution_count": 16,
   "id": "de4344eb",
   "metadata": {},
   "outputs": [
    {
     "data": {
      "text/plain": [
       "False    545\n",
       "Name: count, dtype: int64"
      ]
     },
     "execution_count": 16,
     "metadata": {},
     "output_type": "execute_result"
    }
   ],
   "source": [
    "ideology[['bioguide_id']].duplicated().value_counts()"
   ]
  },
  {
   "cell_type": "code",
   "execution_count": 7,
   "id": "a2d174e0",
   "metadata": {},
   "outputs": [
    {
     "data": {
      "text/plain": [
       "Index(['introducedDate', 'type', 'url', 'number', 'title', 'bioguide_id'], dtype='object')"
      ]
     },
     "execution_count": 7,
     "metadata": {},
     "output_type": "execute_result"
    }
   ],
   "source": [
    "sponsored_legislation.columns"
   ]
  },
  {
   "cell_type": "code",
   "execution_count": 25,
   "id": "84eb629b",
   "metadata": {},
   "outputs": [
    {
     "data": {
      "text/plain": [
       "False    14379\n",
       "Name: count, dtype: int64"
      ]
     },
     "execution_count": 25,
     "metadata": {},
     "output_type": "execute_result"
    }
   ],
   "source": [
    "sponsored_legislation[['url']].duplicated().value_counts()"
   ]
  },
  {
   "cell_type": "code",
   "execution_count": 8,
   "id": "b1d04130",
   "metadata": {},
   "outputs": [
    {
     "data": {
      "text/plain": [
       "Index(['bioguide_id', 'chamber', 'congress', 'stateCode', 'startYear',\n",
       "       'endYear', 'district'],\n",
       "      dtype='object')"
      ]
     },
     "execution_count": 8,
     "metadata": {},
     "output_type": "execute_result"
    }
   ],
   "source": [
    "terms.columns"
   ]
  },
  {
   "cell_type": "code",
   "execution_count": 30,
   "id": "184e9b89",
   "metadata": {},
   "outputs": [
    {
     "data": {
      "text/plain": [
       "False    3257\n",
       "Name: count, dtype: int64"
      ]
     },
     "execution_count": 30,
     "metadata": {},
     "output_type": "execute_result"
    }
   ],
   "source": [
    "terms[['bioguide_id', 'chamber', 'congress']].duplicated().value_counts()"
   ]
  },
  {
   "cell_type": "code",
   "execution_count": 9,
   "id": "8cb39594",
   "metadata": {},
   "outputs": [
    {
     "data": {
      "text/plain": [
       "Index(['bioname', 'comparison_member', 'agree'], dtype='object')"
      ]
     },
     "execution_count": 9,
     "metadata": {},
     "output_type": "execute_result"
    }
   ],
   "source": [
    "vote_compare.columns"
   ]
  },
  {
   "cell_type": "code",
   "execution_count": 31,
   "id": "d3d32310",
   "metadata": {},
   "outputs": [
    {
     "data": {
      "text/plain": [
       "False    206040\n",
       "Name: count, dtype: int64"
      ]
     },
     "execution_count": 31,
     "metadata": {},
     "output_type": "execute_result"
    }
   ],
   "source": [
    "vote_compare[['bioname', 'comparison_member']].duplicated().value_counts()"
   ]
  },
  {
   "cell_type": "code",
   "execution_count": 3,
   "id": "35185987",
   "metadata": {},
   "outputs": [
    {
     "data": {
      "text/plain": [
       "Index(['contributor_name', 'contributor_aggregate_ytd', 'memo_text', 'pdf_url',\n",
       "       'fec_committee_id', 'fec_id'],\n",
       "      dtype='object')"
      ]
     },
     "execution_count": 3,
     "metadata": {},
     "output_type": "execute_result"
    }
   ],
   "source": [
    "contrib.columns"
   ]
  },
  {
   "cell_type": "code",
   "execution_count": 13,
   "id": "36e08f5d",
   "metadata": {},
   "outputs": [
    {
     "data": {
      "text/html": [
       "<div>\n",
       "<style scoped>\n",
       "    .dataframe tbody tr th:only-of-type {\n",
       "        vertical-align: middle;\n",
       "    }\n",
       "\n",
       "    .dataframe tbody tr th {\n",
       "        vertical-align: top;\n",
       "    }\n",
       "\n",
       "    .dataframe thead th {\n",
       "        text-align: right;\n",
       "    }\n",
       "</style>\n",
       "<table border=\"1\" class=\"dataframe\">\n",
       "  <thead>\n",
       "    <tr style=\"text-align: right;\">\n",
       "      <th></th>\n",
       "      <th>contributor_name</th>\n",
       "      <th>contributor_aggregate_ytd</th>\n",
       "      <th>memo_text</th>\n",
       "      <th>pdf_url</th>\n",
       "      <th>fec_committee_id</th>\n",
       "      <th>fec_id</th>\n",
       "    </tr>\n",
       "  </thead>\n",
       "  <tbody>\n",
       "    <tr>\n",
       "      <th>595599</th>\n",
       "      <td>LOUKAS, GEORGE</td>\n",
       "      <td>2500.0</td>\n",
       "      <td>NaN</td>\n",
       "      <td>http://docquery.fec.gov/cgi-bin/fecimg/?109300...</td>\n",
       "      <td>C00457556</td>\n",
       "      <td>H0IL05096</td>\n",
       "    </tr>\n",
       "    <tr>\n",
       "      <th>602339</th>\n",
       "      <td>LOUKAS, GEORGE</td>\n",
       "      <td>2500.0</td>\n",
       "      <td>NaN</td>\n",
       "      <td>http://docquery.fec.gov/cgi-bin/fecimg/?109300...</td>\n",
       "      <td>C00457556</td>\n",
       "      <td>H0IL05096</td>\n",
       "    </tr>\n",
       "    <tr>\n",
       "      <th>601825</th>\n",
       "      <td>NOWOTNY, DONALD</td>\n",
       "      <td>300.0</td>\n",
       "      <td>NaN</td>\n",
       "      <td>http://docquery.fec.gov/cgi-bin/fecimg/?109300...</td>\n",
       "      <td>C00457556</td>\n",
       "      <td>H0IL05096</td>\n",
       "    </tr>\n",
       "    <tr>\n",
       "      <th>601824</th>\n",
       "      <td>NOWOTNY, DONALD</td>\n",
       "      <td>300.0</td>\n",
       "      <td>NaN</td>\n",
       "      <td>http://docquery.fec.gov/cgi-bin/fecimg/?109300...</td>\n",
       "      <td>C00457556</td>\n",
       "      <td>H0IL05096</td>\n",
       "    </tr>\n",
       "    <tr>\n",
       "      <th>142219</th>\n",
       "      <td>FETHERSTON, BARBARA</td>\n",
       "      <td>2900.0</td>\n",
       "      <td>NaN</td>\n",
       "      <td>http://docquery.fec.gov/cgi-bin/fecimg/?109303...</td>\n",
       "      <td>C00462697</td>\n",
       "      <td>H0CA10149</td>\n",
       "    </tr>\n",
       "    <tr>\n",
       "      <th>136996</th>\n",
       "      <td>FETHERSTON, BARBARA</td>\n",
       "      <td>2900.0</td>\n",
       "      <td>NaN</td>\n",
       "      <td>http://docquery.fec.gov/cgi-bin/fecimg/?109303...</td>\n",
       "      <td>C00462697</td>\n",
       "      <td>H0CA10149</td>\n",
       "    </tr>\n",
       "    <tr>\n",
       "      <th>136985</th>\n",
       "      <td>GREENSPAN, ROBB T.</td>\n",
       "      <td>4800.0</td>\n",
       "      <td>NaN</td>\n",
       "      <td>http://docquery.fec.gov/cgi-bin/fecimg/?109303...</td>\n",
       "      <td>C00462697</td>\n",
       "      <td>H0CA10149</td>\n",
       "    </tr>\n",
       "    <tr>\n",
       "      <th>136986</th>\n",
       "      <td>GREENSPAN, ROBB T.</td>\n",
       "      <td>4800.0</td>\n",
       "      <td>NaN</td>\n",
       "      <td>http://docquery.fec.gov/cgi-bin/fecimg/?109303...</td>\n",
       "      <td>C00462697</td>\n",
       "      <td>H0CA10149</td>\n",
       "    </tr>\n",
       "    <tr>\n",
       "      <th>142212</th>\n",
       "      <td>GREWAL, KULDIP</td>\n",
       "      <td>700.0</td>\n",
       "      <td>NaN</td>\n",
       "      <td>http://docquery.fec.gov/cgi-bin/fecimg/?109303...</td>\n",
       "      <td>C00462697</td>\n",
       "      <td>H0CA10149</td>\n",
       "    </tr>\n",
       "    <tr>\n",
       "      <th>144091</th>\n",
       "      <td>GREWAL, KULDIP</td>\n",
       "      <td>700.0</td>\n",
       "      <td>NaN</td>\n",
       "      <td>http://docquery.fec.gov/cgi-bin/fecimg/?109303...</td>\n",
       "      <td>C00462697</td>\n",
       "      <td>H0CA10149</td>\n",
       "    </tr>\n",
       "  </tbody>\n",
       "</table>\n",
       "</div>"
      ],
      "text/plain": [
       "           contributor_name  contributor_aggregate_ytd memo_text  \\\n",
       "595599       LOUKAS, GEORGE                     2500.0       NaN   \n",
       "602339       LOUKAS, GEORGE                     2500.0       NaN   \n",
       "601825      NOWOTNY, DONALD                      300.0       NaN   \n",
       "601824      NOWOTNY, DONALD                      300.0       NaN   \n",
       "142219  FETHERSTON, BARBARA                     2900.0       NaN   \n",
       "136996  FETHERSTON, BARBARA                     2900.0       NaN   \n",
       "136985   GREENSPAN, ROBB T.                     4800.0       NaN   \n",
       "136986   GREENSPAN, ROBB T.                     4800.0       NaN   \n",
       "142212       GREWAL, KULDIP                      700.0       NaN   \n",
       "144091       GREWAL, KULDIP                      700.0       NaN   \n",
       "\n",
       "                                                  pdf_url fec_committee_id  \\\n",
       "595599  http://docquery.fec.gov/cgi-bin/fecimg/?109300...        C00457556   \n",
       "602339  http://docquery.fec.gov/cgi-bin/fecimg/?109300...        C00457556   \n",
       "601825  http://docquery.fec.gov/cgi-bin/fecimg/?109300...        C00457556   \n",
       "601824  http://docquery.fec.gov/cgi-bin/fecimg/?109300...        C00457556   \n",
       "142219  http://docquery.fec.gov/cgi-bin/fecimg/?109303...        C00462697   \n",
       "136996  http://docquery.fec.gov/cgi-bin/fecimg/?109303...        C00462697   \n",
       "136985  http://docquery.fec.gov/cgi-bin/fecimg/?109303...        C00462697   \n",
       "136986  http://docquery.fec.gov/cgi-bin/fecimg/?109303...        C00462697   \n",
       "142212  http://docquery.fec.gov/cgi-bin/fecimg/?109303...        C00462697   \n",
       "144091  http://docquery.fec.gov/cgi-bin/fecimg/?109303...        C00462697   \n",
       "\n",
       "           fec_id  \n",
       "595599  H0IL05096  \n",
       "602339  H0IL05096  \n",
       "601825  H0IL05096  \n",
       "601824  H0IL05096  \n",
       "142219  H0CA10149  \n",
       "136996  H0CA10149  \n",
       "136985  H0CA10149  \n",
       "136986  H0CA10149  \n",
       "142212  H0CA10149  \n",
       "144091  H0CA10149  "
      ]
     },
     "execution_count": 13,
     "metadata": {},
     "output_type": "execute_result"
    }
   ],
   "source": [
    "contrib.loc[contrib.duplicated(keep=False)].sort_values('pdf_url').head(10)"
   ]
  },
  {
   "cell_type": "code",
   "execution_count": 6,
   "id": "21a9e317",
   "metadata": {},
   "outputs": [
    {
     "data": {
      "text/html": [
       "<div>\n",
       "<style scoped>\n",
       "    .dataframe tbody tr th:only-of-type {\n",
       "        vertical-align: middle;\n",
       "    }\n",
       "\n",
       "    .dataframe tbody tr th {\n",
       "        vertical-align: top;\n",
       "    }\n",
       "\n",
       "    .dataframe thead th {\n",
       "        text-align: right;\n",
       "    }\n",
       "</style>\n",
       "<table border=\"1\" class=\"dataframe\">\n",
       "  <thead>\n",
       "    <tr style=\"text-align: right;\">\n",
       "      <th></th>\n",
       "      <th>contributor_name</th>\n",
       "      <th>contributor_aggregate_ytd</th>\n",
       "      <th>memo_text</th>\n",
       "      <th>pdf_url</th>\n",
       "      <th>fec_committee_id</th>\n",
       "      <th>fec_id</th>\n",
       "    </tr>\n",
       "  </thead>\n",
       "  <tbody>\n",
       "    <tr>\n",
       "      <th>600548</th>\n",
       "      <td>ARENSON, PETER</td>\n",
       "      <td>1300.0</td>\n",
       "      <td>NaN</td>\n",
       "      <td>http://docquery.fec.gov/cgi-bin/fecimg/?109300...</td>\n",
       "      <td>C00457556</td>\n",
       "      <td>H0IL05096</td>\n",
       "    </tr>\n",
       "    <tr>\n",
       "      <th>600174</th>\n",
       "      <td>BIRMINGHAM, BARBARA</td>\n",
       "      <td>2000.0</td>\n",
       "      <td>NaN</td>\n",
       "      <td>http://docquery.fec.gov/cgi-bin/fecimg/?109300...</td>\n",
       "      <td>C00457556</td>\n",
       "      <td>H0IL05096</td>\n",
       "    </tr>\n",
       "    <tr>\n",
       "      <th>601465</th>\n",
       "      <td>BAUER, MICHAEL</td>\n",
       "      <td>250.0</td>\n",
       "      <td>NaN</td>\n",
       "      <td>http://docquery.fec.gov/cgi-bin/fecimg/?109300...</td>\n",
       "      <td>C00457556</td>\n",
       "      <td>H0IL05096</td>\n",
       "    </tr>\n",
       "    <tr>\n",
       "      <th>602341</th>\n",
       "      <td>CAMPBELL, THOMAS</td>\n",
       "      <td>400.0</td>\n",
       "      <td>NaN</td>\n",
       "      <td>http://docquery.fec.gov/cgi-bin/fecimg/?109300...</td>\n",
       "      <td>C00457556</td>\n",
       "      <td>H0IL05096</td>\n",
       "    </tr>\n",
       "    <tr>\n",
       "      <th>600547</th>\n",
       "      <td>BODEN, HANS</td>\n",
       "      <td>2300.0</td>\n",
       "      <td>NaN</td>\n",
       "      <td>http://docquery.fec.gov/cgi-bin/fecimg/?109300...</td>\n",
       "      <td>C00457556</td>\n",
       "      <td>H0IL05096</td>\n",
       "    </tr>\n",
       "  </tbody>\n",
       "</table>\n",
       "</div>"
      ],
      "text/plain": [
       "           contributor_name  contributor_aggregate_ytd memo_text  \\\n",
       "600548       ARENSON, PETER                     1300.0       NaN   \n",
       "600174  BIRMINGHAM, BARBARA                     2000.0       NaN   \n",
       "601465       BAUER, MICHAEL                      250.0       NaN   \n",
       "602341     CAMPBELL, THOMAS                      400.0       NaN   \n",
       "600547          BODEN, HANS                     2300.0       NaN   \n",
       "\n",
       "                                                  pdf_url fec_committee_id  \\\n",
       "600548  http://docquery.fec.gov/cgi-bin/fecimg/?109300...        C00457556   \n",
       "600174  http://docquery.fec.gov/cgi-bin/fecimg/?109300...        C00457556   \n",
       "601465  http://docquery.fec.gov/cgi-bin/fecimg/?109300...        C00457556   \n",
       "602341  http://docquery.fec.gov/cgi-bin/fecimg/?109300...        C00457556   \n",
       "600547  http://docquery.fec.gov/cgi-bin/fecimg/?109300...        C00457556   \n",
       "\n",
       "           fec_id  \n",
       "600548  H0IL05096  \n",
       "600174  H0IL05096  \n",
       "601465  H0IL05096  \n",
       "602341  H0IL05096  \n",
       "600547  H0IL05096  "
      ]
     },
     "execution_count": 6,
     "metadata": {},
     "output_type": "execute_result"
    }
   ],
   "source": [
    "contrib_clean = contrib.drop_duplicates().sort_values('pdf_url')\n",
    "contrib_clean.head()"
   ]
  },
  {
   "cell_type": "code",
   "execution_count": 12,
   "id": "df080b73",
   "metadata": {},
   "outputs": [
    {
     "data": {
      "text/plain": [
       "True     378715\n",
       "False    217665\n",
       "Name: count, dtype: int64"
      ]
     },
     "execution_count": 12,
     "metadata": {},
     "output_type": "execute_result"
    }
   ],
   "source": [
    "contrib_clean[['pdf_url']].duplicated().value_counts()"
   ]
  },
  {
   "cell_type": "markdown",
   "id": "f65ccef8",
   "metadata": {},
   "source": [
    "2. Do any of the tables need to be separated into multiple tables (because it violates 2NF), or combined into one table (because they share the same primary key)?"
   ]
  },
  {
   "cell_type": "code",
   "execution_count": 57,
   "id": "2a249129",
   "metadata": {},
   "outputs": [
    {
     "data": {
      "text/plain": [
       "matched\n",
       "both          545\n",
       "left_only       0\n",
       "right_only      0\n",
       "Name: count, dtype: int64"
      ]
     },
     "execution_count": 57,
     "metadata": {},
     "output_type": "execute_result"
    }
   ],
   "source": [
    "members = pd.merge(bioinfo, fec_ids, how='outer', on='bioguide_id', validate='1:1', indicator='matched')\n",
    "members['matched'].value_counts()"
   ]
  },
  {
   "cell_type": "code",
   "execution_count": 58,
   "id": "5778f900",
   "metadata": {},
   "outputs": [
    {
     "data": {
      "text/plain": [
       "matched\n",
       "both          545\n",
       "left_only       0\n",
       "right_only      0\n",
       "Name: count, dtype: int64"
      ]
     },
     "execution_count": 58,
     "metadata": {},
     "output_type": "execute_result"
    }
   ],
   "source": [
    "members = members.drop('matched', axis=1)\n",
    "members = pd.merge(members, ideology, how='outer', on='bioguide_id', validate='1:1', indicator='matched')\n",
    "members['matched'].value_counts()"
   ]
  },
  {
   "cell_type": "code",
   "execution_count": 59,
   "id": "ff4c76df",
   "metadata": {},
   "outputs": [
    {
     "data": {
      "text/html": [
       "<div>\n",
       "<style scoped>\n",
       "    .dataframe tbody tr th:only-of-type {\n",
       "        vertical-align: middle;\n",
       "    }\n",
       "\n",
       "    .dataframe tbody tr th {\n",
       "        vertical-align: top;\n",
       "    }\n",
       "\n",
       "    .dataframe thead th {\n",
       "        text-align: right;\n",
       "    }\n",
       "</style>\n",
       "<table border=\"1\" class=\"dataframe\">\n",
       "  <thead>\n",
       "    <tr style=\"text-align: right;\">\n",
       "      <th></th>\n",
       "      <th>bioguide_id</th>\n",
       "      <th>Full name</th>\n",
       "      <th>Chamber</th>\n",
       "      <th>State</th>\n",
       "      <th>Party</th>\n",
       "      <th>District</th>\n",
       "      <th>birthYear</th>\n",
       "      <th>image</th>\n",
       "      <th>Office address</th>\n",
       "      <th>Phone</th>\n",
       "      <th>Website</th>\n",
       "      <th>fec_id</th>\n",
       "      <th>bioname</th>\n",
       "      <th>chamber</th>\n",
       "      <th>left_right_ideology</th>\n",
       "      <th>state_abbrev</th>\n",
       "      <th>district_code</th>\n",
       "      <th>icpsr</th>\n",
       "      <th>party</th>\n",
       "    </tr>\n",
       "  </thead>\n",
       "  <tbody>\n",
       "    <tr>\n",
       "      <th>0</th>\n",
       "      <td>A000055</td>\n",
       "      <td>Robert B. Aderholt</td>\n",
       "      <td>House of Representatives</td>\n",
       "      <td>Alabama</td>\n",
       "      <td>Republican</td>\n",
       "      <td>4.0</td>\n",
       "      <td>1965.0</td>\n",
       "      <td>https://www.congress.gov/img/member/a000055_20...</td>\n",
       "      <td>272 Cannon House Office Building, Washington, ...</td>\n",
       "      <td>(202) 225-4876</td>\n",
       "      <td>https://aderholt.house.gov/</td>\n",
       "      <td>H6AL04098</td>\n",
       "      <td>ADERHOLT, Robert</td>\n",
       "      <td>House</td>\n",
       "      <td>0.405</td>\n",
       "      <td>AL</td>\n",
       "      <td>4</td>\n",
       "      <td>29701</td>\n",
       "      <td>Republican</td>\n",
       "    </tr>\n",
       "    <tr>\n",
       "      <th>1</th>\n",
       "      <td>A000148</td>\n",
       "      <td>Jake Auchincloss</td>\n",
       "      <td>House of Representatives</td>\n",
       "      <td>Massachusetts</td>\n",
       "      <td>Democratic</td>\n",
       "      <td>4.0</td>\n",
       "      <td>1988.0</td>\n",
       "      <td>https://www.congress.gov/img/member/67817e391f...</td>\n",
       "      <td>1524 Longworth House Office Building, Washingt...</td>\n",
       "      <td>(202) 225-5931</td>\n",
       "      <td>https://auchincloss.house.gov</td>\n",
       "      <td>H0MA04192</td>\n",
       "      <td>AUCHINCLOSS, Jake</td>\n",
       "      <td>House</td>\n",
       "      <td>-0.288</td>\n",
       "      <td>MA</td>\n",
       "      <td>4</td>\n",
       "      <td>22100</td>\n",
       "      <td>Democrat</td>\n",
       "    </tr>\n",
       "    <tr>\n",
       "      <th>2</th>\n",
       "      <td>A000369</td>\n",
       "      <td>Mark E. Amodei</td>\n",
       "      <td>House of Representatives</td>\n",
       "      <td>Nevada</td>\n",
       "      <td>Republican</td>\n",
       "      <td>2.0</td>\n",
       "      <td>1958.0</td>\n",
       "      <td>https://www.congress.gov/img/member/a000369_20...</td>\n",
       "      <td>104 Cannon House Office Building, Washington, ...</td>\n",
       "      <td>(202) 225-6155</td>\n",
       "      <td>https://amodei.house.gov</td>\n",
       "      <td>H2NV02395</td>\n",
       "      <td>AMODEI, Mark E.</td>\n",
       "      <td>House</td>\n",
       "      <td>0.384</td>\n",
       "      <td>NV</td>\n",
       "      <td>2</td>\n",
       "      <td>21196</td>\n",
       "      <td>Republican</td>\n",
       "    </tr>\n",
       "    <tr>\n",
       "      <th>3</th>\n",
       "      <td>A000370</td>\n",
       "      <td>Alma S. Adams</td>\n",
       "      <td>House of Representatives</td>\n",
       "      <td>North Carolina</td>\n",
       "      <td>Democratic</td>\n",
       "      <td>12.0</td>\n",
       "      <td>1946.0</td>\n",
       "      <td>https://www.congress.gov/img/member/a000370_20...</td>\n",
       "      <td>2436 Rayburn House Office Building, Washington...</td>\n",
       "      <td>(202) 225-1510</td>\n",
       "      <td>https://adams.house.gov</td>\n",
       "      <td>H4NC12100</td>\n",
       "      <td>ADAMS, Alma</td>\n",
       "      <td>House</td>\n",
       "      <td>-0.462</td>\n",
       "      <td>NC</td>\n",
       "      <td>12</td>\n",
       "      <td>21545</td>\n",
       "      <td>Democrat</td>\n",
       "    </tr>\n",
       "    <tr>\n",
       "      <th>4</th>\n",
       "      <td>A000371</td>\n",
       "      <td>Pete Aguilar</td>\n",
       "      <td>House of Representatives</td>\n",
       "      <td>California</td>\n",
       "      <td>Democratic</td>\n",
       "      <td>33.0</td>\n",
       "      <td>1979.0</td>\n",
       "      <td>https://www.congress.gov/img/member/a000371_20...</td>\n",
       "      <td>108 Cannon House Office Building, Washington, ...</td>\n",
       "      <td>(202) 225-3201</td>\n",
       "      <td>https://aguilar.house.gov/</td>\n",
       "      <td>H2CA31125</td>\n",
       "      <td>AGUILAR, Peter Rey</td>\n",
       "      <td>House</td>\n",
       "      <td>-0.324</td>\n",
       "      <td>CA</td>\n",
       "      <td>33</td>\n",
       "      <td>21506</td>\n",
       "      <td>Democrat</td>\n",
       "    </tr>\n",
       "  </tbody>\n",
       "</table>\n",
       "</div>"
      ],
      "text/plain": [
       "  bioguide_id           Full name                   Chamber           State  \\\n",
       "0     A000055  Robert B. Aderholt  House of Representatives         Alabama   \n",
       "1     A000148    Jake Auchincloss  House of Representatives   Massachusetts   \n",
       "2     A000369      Mark E. Amodei  House of Representatives          Nevada   \n",
       "3     A000370       Alma S. Adams  House of Representatives  North Carolina   \n",
       "4     A000371        Pete Aguilar  House of Representatives      California   \n",
       "\n",
       "        Party  District  birthYear  \\\n",
       "0  Republican       4.0     1965.0   \n",
       "1  Democratic       4.0     1988.0   \n",
       "2  Republican       2.0     1958.0   \n",
       "3  Democratic      12.0     1946.0   \n",
       "4  Democratic      33.0     1979.0   \n",
       "\n",
       "                                               image  \\\n",
       "0  https://www.congress.gov/img/member/a000055_20...   \n",
       "1  https://www.congress.gov/img/member/67817e391f...   \n",
       "2  https://www.congress.gov/img/member/a000369_20...   \n",
       "3  https://www.congress.gov/img/member/a000370_20...   \n",
       "4  https://www.congress.gov/img/member/a000371_20...   \n",
       "\n",
       "                                      Office address           Phone  \\\n",
       "0  272 Cannon House Office Building, Washington, ...  (202) 225-4876   \n",
       "1  1524 Longworth House Office Building, Washingt...  (202) 225-5931   \n",
       "2  104 Cannon House Office Building, Washington, ...  (202) 225-6155   \n",
       "3  2436 Rayburn House Office Building, Washington...  (202) 225-1510   \n",
       "4  108 Cannon House Office Building, Washington, ...  (202) 225-3201   \n",
       "\n",
       "                         Website     fec_id             bioname chamber  \\\n",
       "0    https://aderholt.house.gov/  H6AL04098    ADERHOLT, Robert   House   \n",
       "1  https://auchincloss.house.gov  H0MA04192   AUCHINCLOSS, Jake   House   \n",
       "2       https://amodei.house.gov  H2NV02395     AMODEI, Mark E.   House   \n",
       "3        https://adams.house.gov  H4NC12100         ADAMS, Alma   House   \n",
       "4     https://aguilar.house.gov/  H2CA31125  AGUILAR, Peter Rey   House   \n",
       "\n",
       "   left_right_ideology state_abbrev  district_code  icpsr       party  \n",
       "0                0.405           AL              4  29701  Republican  \n",
       "1               -0.288           MA              4  22100    Democrat  \n",
       "2                0.384           NV              2  21196  Republican  \n",
       "3               -0.462           NC             12  21545    Democrat  \n",
       "4               -0.324           CA             33  21506    Democrat  "
      ]
     },
     "execution_count": 59,
     "metadata": {},
     "output_type": "execute_result"
    }
   ],
   "source": [
    "members = members.drop('matched', axis=1)\n",
    "members.head()"
   ]
  },
  {
   "cell_type": "code",
   "execution_count": 60,
   "id": "ed109615",
   "metadata": {},
   "outputs": [
    {
     "data": {
      "text/html": [
       "<div>\n",
       "<style scoped>\n",
       "    .dataframe tbody tr th:only-of-type {\n",
       "        vertical-align: middle;\n",
       "    }\n",
       "\n",
       "    .dataframe tbody tr th {\n",
       "        vertical-align: top;\n",
       "    }\n",
       "\n",
       "    .dataframe thead th {\n",
       "        text-align: right;\n",
       "    }\n",
       "</style>\n",
       "<table border=\"1\" class=\"dataframe\">\n",
       "  <thead>\n",
       "    <tr style=\"text-align: right;\">\n",
       "      <th></th>\n",
       "      <th>0</th>\n",
       "      <th>1</th>\n",
       "      <th>2</th>\n",
       "    </tr>\n",
       "  </thead>\n",
       "  <tbody>\n",
       "    <tr>\n",
       "      <th>bioguide_id</th>\n",
       "      <td>A000055</td>\n",
       "      <td>A000148</td>\n",
       "      <td>A000369</td>\n",
       "    </tr>\n",
       "    <tr>\n",
       "      <th>birthyear</th>\n",
       "      <td>1965.0</td>\n",
       "      <td>1988.0</td>\n",
       "      <td>1958.0</td>\n",
       "    </tr>\n",
       "    <tr>\n",
       "      <th>image</th>\n",
       "      <td>https://www.congress.gov/img/member/a000055_20...</td>\n",
       "      <td>https://www.congress.gov/img/member/67817e391f...</td>\n",
       "      <td>https://www.congress.gov/img/member/a000369_20...</td>\n",
       "    </tr>\n",
       "    <tr>\n",
       "      <th>office_address</th>\n",
       "      <td>272 Cannon House Office Building, Washington, ...</td>\n",
       "      <td>1524 Longworth House Office Building, Washingt...</td>\n",
       "      <td>104 Cannon House Office Building, Washington, ...</td>\n",
       "    </tr>\n",
       "    <tr>\n",
       "      <th>phone</th>\n",
       "      <td>(202) 225-4876</td>\n",
       "      <td>(202) 225-5931</td>\n",
       "      <td>(202) 225-6155</td>\n",
       "    </tr>\n",
       "    <tr>\n",
       "      <th>website</th>\n",
       "      <td>https://aderholt.house.gov/</td>\n",
       "      <td>https://auchincloss.house.gov</td>\n",
       "      <td>https://amodei.house.gov</td>\n",
       "    </tr>\n",
       "    <tr>\n",
       "      <th>fec_id</th>\n",
       "      <td>H6AL04098</td>\n",
       "      <td>H0MA04192</td>\n",
       "      <td>H2NV02395</td>\n",
       "    </tr>\n",
       "    <tr>\n",
       "      <th>bioname</th>\n",
       "      <td>ADERHOLT, Robert</td>\n",
       "      <td>AUCHINCLOSS, Jake</td>\n",
       "      <td>AMODEI, Mark E.</td>\n",
       "    </tr>\n",
       "    <tr>\n",
       "      <th>chamber</th>\n",
       "      <td>House</td>\n",
       "      <td>House</td>\n",
       "      <td>House</td>\n",
       "    </tr>\n",
       "    <tr>\n",
       "      <th>left_right_ideology</th>\n",
       "      <td>0.405</td>\n",
       "      <td>-0.288</td>\n",
       "      <td>0.384</td>\n",
       "    </tr>\n",
       "    <tr>\n",
       "      <th>state_abbrev</th>\n",
       "      <td>AL</td>\n",
       "      <td>MA</td>\n",
       "      <td>NV</td>\n",
       "    </tr>\n",
       "    <tr>\n",
       "      <th>district_code</th>\n",
       "      <td>4</td>\n",
       "      <td>4</td>\n",
       "      <td>2</td>\n",
       "    </tr>\n",
       "    <tr>\n",
       "      <th>icpsr</th>\n",
       "      <td>29701</td>\n",
       "      <td>22100</td>\n",
       "      <td>21196</td>\n",
       "    </tr>\n",
       "    <tr>\n",
       "      <th>party</th>\n",
       "      <td>Republican</td>\n",
       "      <td>Democrat</td>\n",
       "      <td>Republican</td>\n",
       "    </tr>\n",
       "  </tbody>\n",
       "</table>\n",
       "</div>"
      ],
      "text/plain": [
       "                                                                     0  \\\n",
       "bioguide_id                                                    A000055   \n",
       "birthyear                                                       1965.0   \n",
       "image                https://www.congress.gov/img/member/a000055_20...   \n",
       "office_address       272 Cannon House Office Building, Washington, ...   \n",
       "phone                                                   (202) 225-4876   \n",
       "website                                    https://aderholt.house.gov/   \n",
       "fec_id                                                       H6AL04098   \n",
       "bioname                                               ADERHOLT, Robert   \n",
       "chamber                                                          House   \n",
       "left_right_ideology                                              0.405   \n",
       "state_abbrev                                                        AL   \n",
       "district_code                                                        4   \n",
       "icpsr                                                            29701   \n",
       "party                                                       Republican   \n",
       "\n",
       "                                                                     1  \\\n",
       "bioguide_id                                                    A000148   \n",
       "birthyear                                                       1988.0   \n",
       "image                https://www.congress.gov/img/member/67817e391f...   \n",
       "office_address       1524 Longworth House Office Building, Washingt...   \n",
       "phone                                                   (202) 225-5931   \n",
       "website                                  https://auchincloss.house.gov   \n",
       "fec_id                                                       H0MA04192   \n",
       "bioname                                              AUCHINCLOSS, Jake   \n",
       "chamber                                                          House   \n",
       "left_right_ideology                                             -0.288   \n",
       "state_abbrev                                                        MA   \n",
       "district_code                                                        4   \n",
       "icpsr                                                            22100   \n",
       "party                                                         Democrat   \n",
       "\n",
       "                                                                     2  \n",
       "bioguide_id                                                    A000369  \n",
       "birthyear                                                       1958.0  \n",
       "image                https://www.congress.gov/img/member/a000369_20...  \n",
       "office_address       104 Cannon House Office Building, Washington, ...  \n",
       "phone                                                   (202) 225-6155  \n",
       "website                                       https://amodei.house.gov  \n",
       "fec_id                                                       H2NV02395  \n",
       "bioname                                                AMODEI, Mark E.  \n",
       "chamber                                                          House  \n",
       "left_right_ideology                                              0.384  \n",
       "state_abbrev                                                        NV  \n",
       "district_code                                                        2  \n",
       "icpsr                                                            21196  \n",
       "party                                                       Republican  "
      ]
     },
     "execution_count": 60,
     "metadata": {},
     "output_type": "execute_result"
    }
   ],
   "source": [
    "members = members.drop(['Full name', 'Chamber', 'State', 'Party', 'District'], axis=1)\n",
    "members.columns = [c.lower().replace(' ', '_') for c in members.columns]\n",
    "members.head(3).T"
   ]
  },
  {
   "cell_type": "code",
   "execution_count": 61,
   "id": "32d664cb",
   "metadata": {},
   "outputs": [],
   "source": [
    "members.to_csv('../data/3NF/members.csv', index=False)"
   ]
  },
  {
   "cell_type": "code",
   "execution_count": 45,
   "id": "6db78e83",
   "metadata": {},
   "outputs": [
    {
     "data": {
      "text/html": [
       "<div>\n",
       "<style scoped>\n",
       "    .dataframe tbody tr th:only-of-type {\n",
       "        vertical-align: middle;\n",
       "    }\n",
       "\n",
       "    .dataframe tbody tr th {\n",
       "        vertical-align: top;\n",
       "    }\n",
       "\n",
       "    .dataframe thead th {\n",
       "        text-align: right;\n",
       "    }\n",
       "</style>\n",
       "<table border=\"1\" class=\"dataframe\">\n",
       "  <thead>\n",
       "    <tr style=\"text-align: right;\">\n",
       "      <th></th>\n",
       "      <th>0</th>\n",
       "      <th>1</th>\n",
       "      <th>2</th>\n",
       "    </tr>\n",
       "  </thead>\n",
       "  <tbody>\n",
       "    <tr>\n",
       "      <th>actionDate</th>\n",
       "      <td>2025-10-15</td>\n",
       "      <td>2025-10-08</td>\n",
       "      <td>2025-10-08</td>\n",
       "    </tr>\n",
       "    <tr>\n",
       "      <th>actionDesc</th>\n",
       "      <td>Introduced in Senate</td>\n",
       "      <td>Introduced in House</td>\n",
       "      <td>Introduced in House</td>\n",
       "    </tr>\n",
       "    <tr>\n",
       "      <th>currentChamber</th>\n",
       "      <td>Senate</td>\n",
       "      <td>House</td>\n",
       "      <td>House</td>\n",
       "    </tr>\n",
       "    <tr>\n",
       "      <th>currentChamberCode</th>\n",
       "      <td>S</td>\n",
       "      <td>H</td>\n",
       "      <td>H</td>\n",
       "    </tr>\n",
       "    <tr>\n",
       "      <th>lastSummaryUpdateDate</th>\n",
       "      <td>2025-10-20T19:23:02Z</td>\n",
       "      <td>2025-10-20T14:56:29Z</td>\n",
       "      <td>2025-10-20T14:06:32Z</td>\n",
       "    </tr>\n",
       "    <tr>\n",
       "      <th>text</th>\n",
       "      <td>&lt;p&gt;&lt;strong&gt;Shutdown Fairness Act&lt;/strong&gt;&lt;/p&gt;&lt;...</td>\n",
       "      <td>&lt;p&gt;&lt;strong&gt;Federal Worker Childcare Protection...</td>\n",
       "      <td>&lt;p&gt;This bill requires the federal government t...</td>\n",
       "    </tr>\n",
       "    <tr>\n",
       "      <th>updateDate</th>\n",
       "      <td>2025-10-20T19:23:15Z</td>\n",
       "      <td>2025-10-20T14:56:58Z</td>\n",
       "      <td>2025-10-20T14:07:00Z</td>\n",
       "    </tr>\n",
       "    <tr>\n",
       "      <th>versionCode</th>\n",
       "      <td>0</td>\n",
       "      <td>0</td>\n",
       "      <td>0</td>\n",
       "    </tr>\n",
       "    <tr>\n",
       "      <th>bill.congress</th>\n",
       "      <td>119</td>\n",
       "      <td>119</td>\n",
       "      <td>119</td>\n",
       "    </tr>\n",
       "    <tr>\n",
       "      <th>bill.number</th>\n",
       "      <td>3012</td>\n",
       "      <td>5720</td>\n",
       "      <td>5705</td>\n",
       "    </tr>\n",
       "    <tr>\n",
       "      <th>bill.originChamber</th>\n",
       "      <td>Senate</td>\n",
       "      <td>House</td>\n",
       "      <td>House</td>\n",
       "    </tr>\n",
       "    <tr>\n",
       "      <th>bill.originChamberCode</th>\n",
       "      <td>S</td>\n",
       "      <td>H</td>\n",
       "      <td>H</td>\n",
       "    </tr>\n",
       "    <tr>\n",
       "      <th>bill.title</th>\n",
       "      <td>Shutdown Fairness Act</td>\n",
       "      <td>Federal Worker Childcare Protection Act of 2025</td>\n",
       "      <td>To authorize the reimbursement by the Federal ...</td>\n",
       "    </tr>\n",
       "    <tr>\n",
       "      <th>bill.type</th>\n",
       "      <td>S</td>\n",
       "      <td>HR</td>\n",
       "      <td>HR</td>\n",
       "    </tr>\n",
       "    <tr>\n",
       "      <th>bill.updateDateIncludingText</th>\n",
       "      <td>2025-10-21</td>\n",
       "      <td>2025-10-20</td>\n",
       "      <td>2025-10-20</td>\n",
       "    </tr>\n",
       "    <tr>\n",
       "      <th>bill.url</th>\n",
       "      <td>https://api.congress.gov/v3/bill/119/s/3012?fo...</td>\n",
       "      <td>https://api.congress.gov/v3/bill/119/hr/5720?f...</td>\n",
       "      <td>https://api.congress.gov/v3/bill/119/hr/5705?f...</td>\n",
       "    </tr>\n",
       "  </tbody>\n",
       "</table>\n",
       "</div>"
      ],
      "text/plain": [
       "                                                                              0  \\\n",
       "actionDate                                                           2025-10-15   \n",
       "actionDesc                                                 Introduced in Senate   \n",
       "currentChamber                                                           Senate   \n",
       "currentChamberCode                                                            S   \n",
       "lastSummaryUpdateDate                                      2025-10-20T19:23:02Z   \n",
       "text                          <p><strong>Shutdown Fairness Act</strong></p><...   \n",
       "updateDate                                                 2025-10-20T19:23:15Z   \n",
       "versionCode                                                                   0   \n",
       "bill.congress                                                               119   \n",
       "bill.number                                                                3012   \n",
       "bill.originChamber                                                       Senate   \n",
       "bill.originChamberCode                                                        S   \n",
       "bill.title                                                Shutdown Fairness Act   \n",
       "bill.type                                                                     S   \n",
       "bill.updateDateIncludingText                                         2025-10-21   \n",
       "bill.url                      https://api.congress.gov/v3/bill/119/s/3012?fo...   \n",
       "\n",
       "                                                                              1  \\\n",
       "actionDate                                                           2025-10-08   \n",
       "actionDesc                                                  Introduced in House   \n",
       "currentChamber                                                            House   \n",
       "currentChamberCode                                                            H   \n",
       "lastSummaryUpdateDate                                      2025-10-20T14:56:29Z   \n",
       "text                          <p><strong>Federal Worker Childcare Protection...   \n",
       "updateDate                                                 2025-10-20T14:56:58Z   \n",
       "versionCode                                                                   0   \n",
       "bill.congress                                                               119   \n",
       "bill.number                                                                5720   \n",
       "bill.originChamber                                                        House   \n",
       "bill.originChamberCode                                                        H   \n",
       "bill.title                      Federal Worker Childcare Protection Act of 2025   \n",
       "bill.type                                                                    HR   \n",
       "bill.updateDateIncludingText                                         2025-10-20   \n",
       "bill.url                      https://api.congress.gov/v3/bill/119/hr/5720?f...   \n",
       "\n",
       "                                                                              2  \n",
       "actionDate                                                           2025-10-08  \n",
       "actionDesc                                                  Introduced in House  \n",
       "currentChamber                                                            House  \n",
       "currentChamberCode                                                            H  \n",
       "lastSummaryUpdateDate                                      2025-10-20T14:06:32Z  \n",
       "text                          <p>This bill requires the federal government t...  \n",
       "updateDate                                                 2025-10-20T14:07:00Z  \n",
       "versionCode                                                                   0  \n",
       "bill.congress                                                               119  \n",
       "bill.number                                                                5705  \n",
       "bill.originChamber                                                        House  \n",
       "bill.originChamberCode                                                        H  \n",
       "bill.title                    To authorize the reimbursement by the Federal ...  \n",
       "bill.type                                                                    HR  \n",
       "bill.updateDateIncludingText                                         2025-10-20  \n",
       "bill.url                      https://api.congress.gov/v3/bill/119/hr/5705?f...  "
      ]
     },
     "execution_count": 45,
     "metadata": {},
     "output_type": "execute_result"
    }
   ],
   "source": [
    "bill_summaries.head(3).T"
   ]
  },
  {
   "cell_type": "code",
   "execution_count": 53,
   "id": "f1ac6a9a",
   "metadata": {},
   "outputs": [
    {
     "name": "stdout",
     "output_type": "stream",
     "text": [
      "actionDate\n",
      "False\n",
      "actionDesc\n",
      "False\n",
      "currentChamber\n",
      "False\n",
      "currentChamberCode\n",
      "False\n",
      "lastSummaryUpdateDate\n",
      "False\n",
      "text\n",
      "False\n",
      "updateDate\n",
      "False\n",
      "versionCode\n",
      "False\n",
      "bill.congress\n",
      "True\n",
      "bill.number\n",
      "True\n",
      "bill.originChamber\n",
      "True\n",
      "bill.originChamberCode\n",
      "True\n",
      "bill.title\n",
      "True\n",
      "bill.type\n",
      "True\n",
      "bill.updateDateIncludingText\n",
      "True\n",
      "bill.url\n",
      "True\n"
     ]
    }
   ],
   "source": [
    "for col in bill_summaries.columns:\n",
    "    print(col)\n",
    "    df = bill_summaries.groupby(['bill.type', 'bill.number']).agg({col: 'nunique'})\n",
    "    print(np.mean(df) == 1)"
   ]
  },
  {
   "cell_type": "code",
   "execution_count": 55,
   "id": "3f533583",
   "metadata": {},
   "outputs": [],
   "source": [
    "bills = bill_summaries[['bill.type', 'bill.number', 'bill.congress', 'bill.originChamber', 'bill.originChamberCode', 'bill.title', 'bill.updateDateIncludingText', 'bill.url']].drop_duplicates()\n",
    "bills.columns = [c.lower().replace(' ', '_') for c in bills.columns]\n",
    "bills.to_csv('../data/3NF/bills.csv', index=False)"
   ]
  },
  {
   "cell_type": "code",
   "execution_count": 63,
   "id": "4d75bf96",
   "metadata": {},
   "outputs": [],
   "source": [
    "bill_versions = bill_summaries.drop(['bill.congress', 'bill.originChamber', 'bill.originChamberCode', 'bill.title', 'bill.updateDateIncludingText', 'bill.url'], axis=1)\n",
    "bill_versions.columns = [c.lower().replace(' ', '_') for c in bill_versions.columns]\n",
    "bill_versions.to_csv('../data/3NF/bill_versions.csv', index=False)"
   ]
  },
  {
   "cell_type": "code",
   "execution_count": 56,
   "id": "cdcac96d",
   "metadata": {},
   "outputs": [
    {
     "data": {
      "text/html": [
       "<div>\n",
       "<style scoped>\n",
       "    .dataframe tbody tr th:only-of-type {\n",
       "        vertical-align: middle;\n",
       "    }\n",
       "\n",
       "    .dataframe tbody tr th {\n",
       "        vertical-align: top;\n",
       "    }\n",
       "\n",
       "    .dataframe thead th {\n",
       "        text-align: right;\n",
       "    }\n",
       "</style>\n",
       "<table border=\"1\" class=\"dataframe\">\n",
       "  <thead>\n",
       "    <tr style=\"text-align: right;\">\n",
       "      <th></th>\n",
       "      <th>0</th>\n",
       "      <th>1</th>\n",
       "      <th>2</th>\n",
       "    </tr>\n",
       "  </thead>\n",
       "  <tbody>\n",
       "    <tr>\n",
       "      <th>bioname</th>\n",
       "      <td>GRASSLEY, Charles Ernest</td>\n",
       "      <td>GRASSLEY, Charles Ernest</td>\n",
       "      <td>GRASSLEY, Charles Ernest</td>\n",
       "    </tr>\n",
       "    <tr>\n",
       "      <th>comparison_member</th>\n",
       "      <td>MARKEY, Edward John</td>\n",
       "      <td>SCHUMER, Charles Ellis (Chuck)</td>\n",
       "      <td>WYDEN, Ronald Lee</td>\n",
       "    </tr>\n",
       "    <tr>\n",
       "      <th>agree</th>\n",
       "      <td>0.021053</td>\n",
       "      <td>0.07193</td>\n",
       "      <td>0.052632</td>\n",
       "    </tr>\n",
       "  </tbody>\n",
       "</table>\n",
       "</div>"
      ],
      "text/plain": [
       "                                          0                               1  \\\n",
       "bioname            GRASSLEY, Charles Ernest        GRASSLEY, Charles Ernest   \n",
       "comparison_member       MARKEY, Edward John  SCHUMER, Charles Ellis (Chuck)   \n",
       "agree                              0.021053                         0.07193   \n",
       "\n",
       "                                          2  \n",
       "bioname            GRASSLEY, Charles Ernest  \n",
       "comparison_member         WYDEN, Ronald Lee  \n",
       "agree                              0.052632  "
      ]
     },
     "execution_count": 56,
     "metadata": {},
     "output_type": "execute_result"
    }
   ],
   "source": [
    "vote_compare.head(3).T"
   ]
  },
  {
   "cell_type": "code",
   "execution_count": 62,
   "id": "225c0ca6",
   "metadata": {},
   "outputs": [],
   "source": [
    "vote_compare.to_csv('../data/3NF/vote_compare.csv', index=False)"
   ]
  }
 ],
 "metadata": {
  "kernelspec": {
   "display_name": "ds6600",
   "language": "python",
   "name": "python3"
  },
  "language_info": {
   "codemirror_mode": {
    "name": "ipython",
    "version": 3
   },
   "file_extension": ".py",
   "mimetype": "text/x-python",
   "name": "python",
   "nbconvert_exporter": "python",
   "pygments_lexer": "ipython3",
   "version": "3.13.2"
  }
 },
 "nbformat": 4,
 "nbformat_minor": 5
}
