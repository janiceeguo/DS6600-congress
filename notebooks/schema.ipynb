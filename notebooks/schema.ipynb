{
 "cells": [
  {
   "cell_type": "code",
   "execution_count": 1,
   "id": "bd219228",
   "metadata": {},
   "outputs": [],
   "source": [
    "import numpy as np\n",
    "import pandas as pd"
   ]
  },
  {
   "cell_type": "code",
   "execution_count": 2,
   "id": "e5bd198e",
   "metadata": {},
   "outputs": [],
   "source": [
    "bill_summaries = pd.read_csv('../data/bill_summaries.csv')\n",
    "bioinfo = pd.read_csv('../data/bioinfo.csv')\n",
    "fec_ids = pd.read_csv('../data/fec_ids.csv')\n",
    "ideology = pd.read_csv('../data/ideology.csv')\n",
    "sponsored_legislation = pd.read_csv('../data/sponsored_legislation.csv')\n",
    "terms = pd.read_csv('../data/terms.csv')\n",
    "vote_compare = pd.read_csv('../data/vote_compare.csv')"
   ]
  },
  {
   "cell_type": "markdown",
   "id": "a61dd156",
   "metadata": {},
   "source": [
    "1. Do each of the CSVs have primary keys? If so, what?"
   ]
  },
  {
   "cell_type": "code",
   "execution_count": 3,
   "id": "01144502",
   "metadata": {},
   "outputs": [
    {
     "data": {
      "text/plain": [
       "Index(['actionDate', 'actionDesc', 'currentChamber', 'currentChamberCode',\n",
       "       'lastSummaryUpdateDate', 'text', 'updateDate', 'versionCode',\n",
       "       'bill.congress', 'bill.number', 'bill.originChamber',\n",
       "       'bill.originChamberCode', 'bill.title', 'bill.type',\n",
       "       'bill.updateDateIncludingText', 'bill.url'],\n",
       "      dtype='object')"
      ]
     },
     "execution_count": 3,
     "metadata": {},
     "output_type": "execute_result"
    }
   ],
   "source": [
    "bill_summaries.columns"
   ]
  },
  {
   "cell_type": "code",
   "execution_count": 13,
   "id": "3ac8732b",
   "metadata": {},
   "outputs": [
    {
     "data": {
      "text/plain": [
       "False    2751\n",
       "Name: count, dtype: int64"
      ]
     },
     "execution_count": 13,
     "metadata": {},
     "output_type": "execute_result"
    }
   ],
   "source": [
    "bill_summaries[['bill.type', 'bill.number', 'versionCode']].duplicated().value_counts()"
   ]
  },
  {
   "cell_type": "code",
   "execution_count": 4,
   "id": "059250d0",
   "metadata": {},
   "outputs": [
    {
     "data": {
      "text/plain": [
       "Index(['bioguide_id', 'Full name', 'Chamber', 'State', 'Party', 'District',\n",
       "       'birthYear', 'image', 'Office address', 'Phone', 'Website'],\n",
       "      dtype='object')"
      ]
     },
     "execution_count": 4,
     "metadata": {},
     "output_type": "execute_result"
    }
   ],
   "source": [
    "bioinfo.columns"
   ]
  },
  {
   "cell_type": "code",
   "execution_count": 14,
   "id": "4b7335d1",
   "metadata": {},
   "outputs": [
    {
     "data": {
      "text/plain": [
       "False    545\n",
       "Name: count, dtype: int64"
      ]
     },
     "execution_count": 14,
     "metadata": {},
     "output_type": "execute_result"
    }
   ],
   "source": [
    "bioinfo[['bioguide_id']].duplicated().value_counts()"
   ]
  },
  {
   "cell_type": "code",
   "execution_count": 5,
   "id": "befa5efb",
   "metadata": {},
   "outputs": [
    {
     "data": {
      "text/plain": [
       "Index(['bioguide_id', 'fec_id'], dtype='object')"
      ]
     },
     "execution_count": 5,
     "metadata": {},
     "output_type": "execute_result"
    }
   ],
   "source": [
    "fec_ids.columns"
   ]
  },
  {
   "cell_type": "code",
   "execution_count": 15,
   "id": "afeb2c8f",
   "metadata": {},
   "outputs": [
    {
     "data": {
      "text/plain": [
       "False    545\n",
       "Name: count, dtype: int64"
      ]
     },
     "execution_count": 15,
     "metadata": {},
     "output_type": "execute_result"
    }
   ],
   "source": [
    "fec_ids[['bioguide_id']].duplicated().value_counts()"
   ]
  },
  {
   "cell_type": "code",
   "execution_count": 6,
   "id": "9e291239",
   "metadata": {},
   "outputs": [
    {
     "data": {
      "text/plain": [
       "Index(['bioname', 'chamber', 'left_right_ideology', 'state_abbrev',\n",
       "       'district_code', 'icpsr', 'bioguide_id', 'party'],\n",
       "      dtype='object')"
      ]
     },
     "execution_count": 6,
     "metadata": {},
     "output_type": "execute_result"
    }
   ],
   "source": [
    "ideology.columns"
   ]
  },
  {
   "cell_type": "code",
   "execution_count": 16,
   "id": "de4344eb",
   "metadata": {},
   "outputs": [
    {
     "data": {
      "text/plain": [
       "False    545\n",
       "Name: count, dtype: int64"
      ]
     },
     "execution_count": 16,
     "metadata": {},
     "output_type": "execute_result"
    }
   ],
   "source": [
    "ideology[['bioguide_id']].duplicated().value_counts()"
   ]
  },
  {
   "cell_type": "code",
   "execution_count": 7,
   "id": "a2d174e0",
   "metadata": {},
   "outputs": [
    {
     "data": {
      "text/plain": [
       "Index(['introducedDate', 'type', 'url', 'number', 'title', 'bioguide_id'], dtype='object')"
      ]
     },
     "execution_count": 7,
     "metadata": {},
     "output_type": "execute_result"
    }
   ],
   "source": [
    "sponsored_legislation.columns"
   ]
  },
  {
   "cell_type": "code",
   "execution_count": 25,
   "id": "84eb629b",
   "metadata": {},
   "outputs": [
    {
     "data": {
      "text/plain": [
       "False    14379\n",
       "Name: count, dtype: int64"
      ]
     },
     "execution_count": 25,
     "metadata": {},
     "output_type": "execute_result"
    }
   ],
   "source": [
    "sponsored_legislation[['url']].duplicated().value_counts()"
   ]
  },
  {
   "cell_type": "code",
   "execution_count": 8,
   "id": "b1d04130",
   "metadata": {},
   "outputs": [
    {
     "data": {
      "text/plain": [
       "Index(['bioguide_id', 'chamber', 'congress', 'stateCode', 'startYear',\n",
       "       'endYear', 'district'],\n",
       "      dtype='object')"
      ]
     },
     "execution_count": 8,
     "metadata": {},
     "output_type": "execute_result"
    }
   ],
   "source": [
    "terms.columns"
   ]
  },
  {
   "cell_type": "code",
   "execution_count": 30,
   "id": "184e9b89",
   "metadata": {},
   "outputs": [
    {
     "data": {
      "text/plain": [
       "False    3257\n",
       "Name: count, dtype: int64"
      ]
     },
     "execution_count": 30,
     "metadata": {},
     "output_type": "execute_result"
    }
   ],
   "source": [
    "terms[['bioguide_id', 'chamber', 'congress']].duplicated().value_counts()"
   ]
  },
  {
   "cell_type": "code",
   "execution_count": 9,
   "id": "8cb39594",
   "metadata": {},
   "outputs": [
    {
     "data": {
      "text/plain": [
       "Index(['bioname', 'comparison_member', 'agree'], dtype='object')"
      ]
     },
     "execution_count": 9,
     "metadata": {},
     "output_type": "execute_result"
    }
   ],
   "source": [
    "vote_compare.columns"
   ]
  },
  {
   "cell_type": "code",
   "execution_count": 31,
   "id": "d3d32310",
   "metadata": {},
   "outputs": [
    {
     "data": {
      "text/plain": [
       "False    206040\n",
       "Name: count, dtype: int64"
      ]
     },
     "execution_count": 31,
     "metadata": {},
     "output_type": "execute_result"
    }
   ],
   "source": [
    "vote_compare[['bioname', 'comparison_member']].duplicated().value_counts()"
   ]
  }
 ],
 "metadata": {
  "kernelspec": {
   "display_name": "ds6600",
   "language": "python",
   "name": "python3"
  },
  "language_info": {
   "codemirror_mode": {
    "name": "ipython",
    "version": 3
   },
   "file_extension": ".py",
   "mimetype": "text/x-python",
   "name": "python",
   "nbconvert_exporter": "python",
   "pygments_lexer": "ipython3",
   "version": "3.13.2"
  }
 },
 "nbformat": 4,
 "nbformat_minor": 5
}
